{
 "cells": [
  {
   "cell_type": "code",
   "execution_count": 1,
   "metadata": {},
   "outputs": [],
   "source": [
    "import pandas as pd\n",
    "\n",
    "# Cargar el archivo CSV\n",
    "data = pd.read_csv('data.csv')\n",
    "data = pd.read_csv('data.csv', delimiter=',') "
   ]
  },
  {
   "cell_type": "code",
   "execution_count": 2,
   "metadata": {},
   "outputs": [],
   "source": [
    "import pandas as pd\n",
    "\n",
    "data.loc[(data['Sector'] == 'DISEÑO') & (data['Etapa'] == 'MODELOS'), 'Etapa'] = 'MODELO_D'\n",
    "data.loc[(data['Sector'] == 'ESCANEADO') & (data['Etapa'] == 'MODELOS'), 'Etapa'] = 'MODELO_E'\n",
    "\n",
    "\n",
    "# Convertir las columnas a tipo datetime para asegurar un correcto manejo de fechas\n",
    "data['Início'] = pd.to_datetime(data['Início'])\n",
    "data['Fecha prevista'] = pd.to_datetime(data['Fecha prevista'])\n",
    "data['Última Finalización'] = pd.to_datetime(data['Última Finalización'])\n",
    "\n",
    "# Pivotar los datos para obtener una columna por cada Etapa con el valor de 'Empleado'\n",
    "pivot_data_empleado = data.pivot_table(index=['Nº', 'Ctd', 'Servicio', 'Fecha prevista', 'Última Finalización'], \n",
    "                                        columns='Etapa', \n",
    "                                        values='Empleado', \n",
    "                                        aggfunc='first', \n",
    "                                        fill_value=0)\n",
    "\n",
    "# Restablecer el índice para obtener un DataFrame normal\n",
    "pivot_data_empleado = pivot_data_empleado.reset_index()\n",
    "\n",
    "# Agrupar por las columnas relevantes y tomar el máximo para cada etapa\n",
    "grouped_data = pivot_data_empleado.groupby(['Nº', 'Ctd', 'Servicio'], as_index=False).agg(lambda x: x.max())\n",
    "\n",
    "# Calcular la primera fecha de 'Início' para cada combinación de 'Nº', 'Servicio' y 'Ctd'\n",
    "fecha_inicio = data.groupby(['Nº', 'Servicio', 'Ctd'])['Início'].min().reset_index() \n",
    "fecha_inicio.rename(columns={'Início': 'Fecha Inicio'}, inplace=True)\n",
    "\n",
    "# Obtener el máximo de las columnas 'Fecha prevista' y 'Última Finalización' por 'Nº', 'Servicio' y 'Ctd'\n",
    "max_dates = data.groupby(['Nº', 'Servicio', 'Ctd']).agg({'Fecha prevista': 'max', 'Última Finalización': 'max'}).reset_index()\n",
    "\n",
    "# Fusionar las fechas máximas con los datos agrupados\n",
    "max_data = pd.merge(grouped_data, fecha_inicio, on=['Nº', 'Servicio', 'Ctd'], how='left')\n",
    "max_data = pd.merge(max_data, max_dates, on=['Nº', 'Servicio', 'Ctd'], how='left')\n",
    "\n",
    "# Eliminar duplicados\n",
    "max_data = max_data.drop_duplicates()\n",
    "\n",
    "# Guardar el nuevo DataFrame en un archivo CSV\n",
    "max_data.to_csv('base.csv', index=False)"
   ]
  },
  {
   "cell_type": "code",
   "execution_count": 3,
   "metadata": {},
   "outputs": [],
   "source": [
    "import pandas as pd\n",
    "\n",
    "# Leer el archivo CSV\n",
    "df = pd.read_csv('base.csv')\n",
    "\n",
    "# Eliminar las últimas dos columnas\n",
    "df = df.iloc[:, :-2]\n",
    "\n",
    "df.to_excel('base.xlsx', index=False, engine='openpyxl')\n"
   ]
  }
 ],
 "metadata": {
  "kernelspec": {
   "display_name": "Python 3",
   "language": "python",
   "name": "python3"
  },
  "language_info": {
   "codemirror_mode": {
    "name": "ipython",
    "version": 3
   },
   "file_extension": ".py",
   "mimetype": "text/x-python",
   "name": "python",
   "nbconvert_exporter": "python",
   "pygments_lexer": "ipython3",
   "version": "3.10.7"
  }
 },
 "nbformat": 4,
 "nbformat_minor": 2
}
