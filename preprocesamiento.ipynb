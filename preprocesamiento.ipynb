{
 "cells": [
  {
   "cell_type": "code",
   "execution_count": 32,
   "metadata": {},
   "outputs": [
    {
     "name": "stdout",
     "output_type": "stream",
     "text": [
      "     Nº Repetición|Ajuste  Cliente  Ctd                    Servicio  \\\n",
      "0  0099                 -        1    6         Diseño 3D por Pieza   \n",
      "1  0099                 A        1    6         Diseño 3D por Pieza   \n",
      "2  0099                 -        1    6         Diseño 3D por Pieza   \n",
      "3  0163                 -        2    2  Incrustación de Disilicato   \n",
      "4  0163                 -        2    2  Incrustación de Disilicato   \n",
      "\n",
      "         Sector              Etapa  Empleado               Início  \\\n",
      "0        DISEÑO  DISEÑO DE SONRISA         1  2024-03-04 12:43:00   \n",
      "1  IMPRESION 3D            ACABADO         1  2024-03-04 12:43:00   \n",
      "2  IMPRESION 3D            MODELOS         2  2024-03-04 16:55:00   \n",
      "3      CERAMICA         MAQUILLAJE         3  2023-11-02 12:40:00   \n",
      "4      CERAMICA           GLASEADO         3  2023-11-02 12:41:00   \n",
      "\n",
      "            Finalizado  ... Mes_de_entrada Día_de_la_semana_fecha_prevista  \\\n",
      "0  2024-03-06 17:15:00  ...        October                         Tuesday   \n",
      "1  2024-03-04 16:01:00  ...        October                         Tuesday   \n",
      "2  2024-03-05 11:50:00  ...        October                         Tuesday   \n",
      "3  2023-11-03 14:02:00  ...        October                        Thursday   \n",
      "4  2023-11-03 11:25:00  ...        October                        Thursday   \n",
      "\n",
      "  Día_del_mes_fecha_prevista  Mes_de_fecha_prevista  duracion_trabajo  \\\n",
      "0                          5                  March               133   \n",
      "1                          5                  March               133   \n",
      "2                          5                  March               133   \n",
      "3                          2               November                 9   \n",
      "4                          2               November                 9   \n",
      "\n",
      "  tiempo_promedio  cantidad_etapas  desvio_fecha  carga_trabajo_sector  \\\n",
      "0       13.103261                3             1                    28   \n",
      "1       13.103261                3             1                    16   \n",
      "2       12.155431                3             1                    16   \n",
      "3        8.235294                2             1                    18   \n",
      "4        8.235294                2             1                    18   \n",
      "\n",
      "  carga_trabajo_total  \n",
      "0                  38  \n",
      "1                  38  \n",
      "2                  38  \n",
      "3                  36  \n",
      "4                  36  \n",
      "\n",
      "[5 rows x 41 columns]\n"
     ]
    }
   ],
   "source": [
    "import pandas as pd\n",
    "\n",
    "archivo_csv = r'C:\\Users\\paula\\OneDrive\\Documentos\\Facultad\\Proyecto Final\\df_limpio.csv'\n",
    "df = pd.read_csv(archivo_csv)\n",
    "\n",
    "print(df.head())"
   ]
  },
  {
   "cell_type": "code",
   "execution_count": 33,
   "metadata": {},
   "outputs": [
    {
     "name": "stdout",
     "output_type": "stream",
     "text": [
      "Index(['Nº', 'Repetición|Ajuste', 'Cliente', 'Ctd', 'Servicio', 'Sector',\n",
      "       'Etapa', 'Empleado', 'Início', 'Finalizado', 'Fecha entrada',\n",
      "       'Fecha prevista', 'Horas Tarea Neto', 'Minutos Tarea Neto',\n",
      "       'Días Tarea Neto', 'Horas Pedido Neto', 'Minutos Pedido Neto',\n",
      "       'Días Pedido Neto', 'Dias Pedido Total', 'Última Finalización',\n",
      "       'Atrasado', 'Días de Atraso', 'Día Semana Inicio',\n",
      "       'Día Semana Finalización', 'promedio_horas_sector',\n",
      "       'promedio_horas_sector_servicio', 'Promedio días atraso por sector',\n",
      "       'Promedio días atraso por servicio', 'Tiempo_hasta_fecha_prevista',\n",
      "       'Día_de_la_semana_entrada', 'Día_del_mes_entrada', 'Mes_de_entrada',\n",
      "       'Día_de_la_semana_fecha_prevista', 'Día_del_mes_fecha_prevista',\n",
      "       'Mes_de_fecha_prevista', 'duracion_trabajo', 'tiempo_promedio',\n",
      "       'cantidad_etapas', 'desvio_fecha', 'carga_trabajo_sector',\n",
      "       'carga_trabajo_total'],\n",
      "      dtype='object')\n"
     ]
    }
   ],
   "source": [
    "print(df.columns)"
   ]
  },
  {
   "cell_type": "markdown",
   "metadata": {},
   "source": [
    "#### Paso a numérico las variables categóricas"
   ]
  },
  {
   "cell_type": "code",
   "execution_count": 34,
   "metadata": {},
   "outputs": [
    {
     "name": "stdout",
     "output_type": "stream",
     "text": [
      "Diccionario de servicios: {'Diseño 3D por Pieza': 1, 'Incrustación de Disilicato': 2, 'Provisorio de PMMA Cad Cam': 3, 'Corona de Zirconia Monolitica': 4, 'Modelo Impreso 3D': 5, 'Mock Up': 6, 'Corona de Disilicato Monolítica': 7, 'Carilla de Disilicato Monolítica': 8, 'Corrección de Bizcochado': 9, 'Guia Qururgica 3D': 10, 'Encia Cerámica (X Pieza)': 11, 'Llave Sat': 12, 'Llave de Comprobación': 13, 'Bizcochado Núcleo de Disilicato': 14, 'Núcleo de Disilicato': 15, 'Carilla Feldespatica': 16, 'Cementación de T-Base por Pieza': 17, 'Perno de Fibra Cad Cam': 18, 'Tallado de Emergente': 19, 'Llave de Tranferencia': 20, 'Incrutación de Resina Híbrida Cad Cam': 21, 'Splint de Mordida': 22, 'Bizcochado Núcleo de Zirconia': 23, 'Núcleo de Zirconia': 24, 'Rodete de Mordida': 25, 'Incrustación de Zirconia': 26, 'Corrección diseño 3D': 27, 'Maryland de Zirconia por Pieza': 28, 'Emergente Cementado de Zirconia': 29, 'Corona de Resina Hibrida Cad Cam': 30, 'Llave de Comprobación Impresa 3D': 31, 'Modelo': 32, 'Encia Artificial X 3': 33, 'Carilla de Leucita Monolítica': 34, 'Placa estampada': 35, 'Carilla de Resina Hibrida Cad Cam': 36, 'Encia Diseño': 37, 'Encia Acrilica': 38, 'Digitalización de Modelo': 39, 'Diseño de Splint de Mordida': 40, 'Carilla de Zirconia Monolítica': 41, 'Carilla Impresa 3D Long Term Resin': 42, 'Rodete de Mordida RIA  Estético': 43, 'Maryland de PMMA': 44, 'Guia de Tallado Impresa 3D': 45}\n",
      "     Nº Repetición|Ajuste  Cliente  Ctd  Servicio        Sector  \\\n",
      "0  0099                 -        1    6         1        DISEÑO   \n",
      "1  0099                 A        1    6         1  IMPRESION 3D   \n",
      "2  0099                 -        1    6         1  IMPRESION 3D   \n",
      "3  0163                 -        2    2         2      CERAMICA   \n",
      "4  0163                 -        2    2         2      CERAMICA   \n",
      "\n",
      "               Etapa  Empleado               Início           Finalizado  ...  \\\n",
      "0  DISEÑO DE SONRISA         1  2024-03-04 12:43:00  2024-03-06 17:15:00  ...   \n",
      "1            ACABADO         1  2024-03-04 12:43:00  2024-03-04 16:01:00  ...   \n",
      "2            MODELOS         2  2024-03-04 16:55:00  2024-03-05 11:50:00  ...   \n",
      "3         MAQUILLAJE         3  2023-11-02 12:40:00  2023-11-03 14:02:00  ...   \n",
      "4           GLASEADO         3  2023-11-02 12:41:00  2023-11-03 11:25:00  ...   \n",
      "\n",
      "  Mes_de_entrada Día_de_la_semana_fecha_prevista Día_del_mes_fecha_prevista  \\\n",
      "0        October                         Tuesday                          5   \n",
      "1        October                         Tuesday                          5   \n",
      "2        October                         Tuesday                          5   \n",
      "3        October                        Thursday                          2   \n",
      "4        October                        Thursday                          2   \n",
      "\n",
      "   Mes_de_fecha_prevista  duracion_trabajo tiempo_promedio  cantidad_etapas  \\\n",
      "0                  March               133       13.103261                3   \n",
      "1                  March               133       13.103261                3   \n",
      "2                  March               133       12.155431                3   \n",
      "3               November                 9        8.235294                2   \n",
      "4               November                 9        8.235294                2   \n",
      "\n",
      "   desvio_fecha  carga_trabajo_sector carga_trabajo_total  \n",
      "0             1                    28                  38  \n",
      "1             1                    16                  38  \n",
      "2             1                    16                  38  \n",
      "3             1                    18                  36  \n",
      "4             1                    18                  36  \n",
      "\n",
      "[5 rows x 41 columns]\n"
     ]
    }
   ],
   "source": [
    "import pandas as pd\n",
    "\n",
    "# Suponiendo que tu DataFrame se llama 'df' y tiene una columna llamada 'Servicio'\n",
    "\n",
    "# Crear un diccionario que asigne un número único a cada servicio\n",
    "servicio_dict = {servicio: i for i, servicio in enumerate(df['Servicio'].unique(), start=1)}\n",
    "\n",
    "# Reemplazar la columna 'Servicio' por los valores numéricos del diccionario\n",
    "df['Servicio'] = df['Servicio'].map(servicio_dict)\n",
    "\n",
    "# Mostrar el diccionario y las primeras filas del DataFrame\n",
    "print(\"Diccionario de servicios:\", servicio_dict)\n",
    "print(df.head())\n"
   ]
  },
  {
   "cell_type": "code",
   "execution_count": 35,
   "metadata": {},
   "outputs": [
    {
     "name": "stdout",
     "output_type": "stream",
     "text": [
      "Diccionario de sectores: {'DISEÑO': 1, 'IMPRESION 3D': 2, 'CERAMICA': 3, 'ACRILICO': 4, 'FRESADO': 5, 'YESO': 6, 'ESCANEADO': 7}\n",
      "     Nº Repetición|Ajuste  Cliente  Ctd  Servicio  Sector              Etapa  \\\n",
      "0  0099                 -        1    6         1       1  DISEÑO DE SONRISA   \n",
      "1  0099                 A        1    6         1       2            ACABADO   \n",
      "2  0099                 -        1    6         1       2            MODELOS   \n",
      "3  0163                 -        2    2         2       3         MAQUILLAJE   \n",
      "4  0163                 -        2    2         2       3           GLASEADO   \n",
      "\n",
      "   Empleado               Início           Finalizado  ... Mes_de_entrada  \\\n",
      "0         1  2024-03-04 12:43:00  2024-03-06 17:15:00  ...        October   \n",
      "1         1  2024-03-04 12:43:00  2024-03-04 16:01:00  ...        October   \n",
      "2         2  2024-03-04 16:55:00  2024-03-05 11:50:00  ...        October   \n",
      "3         3  2023-11-02 12:40:00  2023-11-03 14:02:00  ...        October   \n",
      "4         3  2023-11-02 12:41:00  2023-11-03 11:25:00  ...        October   \n",
      "\n",
      "  Día_de_la_semana_fecha_prevista Día_del_mes_fecha_prevista  \\\n",
      "0                         Tuesday                          5   \n",
      "1                         Tuesday                          5   \n",
      "2                         Tuesday                          5   \n",
      "3                        Thursday                          2   \n",
      "4                        Thursday                          2   \n",
      "\n",
      "   Mes_de_fecha_prevista  duracion_trabajo tiempo_promedio  cantidad_etapas  \\\n",
      "0                  March               133       13.103261                3   \n",
      "1                  March               133       13.103261                3   \n",
      "2                  March               133       12.155431                3   \n",
      "3               November                 9        8.235294                2   \n",
      "4               November                 9        8.235294                2   \n",
      "\n",
      "   desvio_fecha  carga_trabajo_sector carga_trabajo_total  \n",
      "0             1                    28                  38  \n",
      "1             1                    16                  38  \n",
      "2             1                    16                  38  \n",
      "3             1                    18                  36  \n",
      "4             1                    18                  36  \n",
      "\n",
      "[5 rows x 41 columns]\n"
     ]
    }
   ],
   "source": [
    "import pandas as pd\n",
    "\n",
    "# Suponiendo que tu DataFrame se llama 'df' y tiene una columna llamada 'Sector'\n",
    "\n",
    "# Crear un diccionario que asigne un número único a cada sector\n",
    "sector_dict = {sector: i for i, sector in enumerate(df['Sector'].unique(), start=1)}\n",
    "\n",
    "# Reemplazar la columna 'Sector' por los valores numéricos del diccionario\n",
    "df['Sector'] = df['Sector'].map(sector_dict)\n",
    "\n",
    "# Mostrar el diccionario y las primeras filas del DataFrame\n",
    "print(\"Diccionario de sectores:\", sector_dict)\n",
    "print(df.head())\n"
   ]
  },
  {
   "cell_type": "code",
   "execution_count": 36,
   "metadata": {},
   "outputs": [
    {
     "name": "stdout",
     "output_type": "stream",
     "text": [
      "Diccionario de Repetición|Ajuste: {'-': 1, 'A': 2, 'R': 3}\n",
      "     Nº  Repetición|Ajuste  Cliente  Ctd  Servicio  Sector              Etapa  \\\n",
      "0  0099                  1        1    6         1       1  DISEÑO DE SONRISA   \n",
      "1  0099                  2        1    6         1       2            ACABADO   \n",
      "2  0099                  1        1    6         1       2            MODELOS   \n",
      "3  0163                  1        2    2         2       3         MAQUILLAJE   \n",
      "4  0163                  1        2    2         2       3           GLASEADO   \n",
      "\n",
      "   Empleado               Início           Finalizado  ... Mes_de_entrada  \\\n",
      "0         1  2024-03-04 12:43:00  2024-03-06 17:15:00  ...        October   \n",
      "1         1  2024-03-04 12:43:00  2024-03-04 16:01:00  ...        October   \n",
      "2         2  2024-03-04 16:55:00  2024-03-05 11:50:00  ...        October   \n",
      "3         3  2023-11-02 12:40:00  2023-11-03 14:02:00  ...        October   \n",
      "4         3  2023-11-02 12:41:00  2023-11-03 11:25:00  ...        October   \n",
      "\n",
      "  Día_de_la_semana_fecha_prevista Día_del_mes_fecha_prevista  \\\n",
      "0                         Tuesday                          5   \n",
      "1                         Tuesday                          5   \n",
      "2                         Tuesday                          5   \n",
      "3                        Thursday                          2   \n",
      "4                        Thursday                          2   \n",
      "\n",
      "   Mes_de_fecha_prevista  duracion_trabajo tiempo_promedio  cantidad_etapas  \\\n",
      "0                  March               133       13.103261                3   \n",
      "1                  March               133       13.103261                3   \n",
      "2                  March               133       12.155431                3   \n",
      "3               November                 9        8.235294                2   \n",
      "4               November                 9        8.235294                2   \n",
      "\n",
      "   desvio_fecha  carga_trabajo_sector carga_trabajo_total  \n",
      "0             1                    28                  38  \n",
      "1             1                    16                  38  \n",
      "2             1                    16                  38  \n",
      "3             1                    18                  36  \n",
      "4             1                    18                  36  \n",
      "\n",
      "[5 rows x 41 columns]\n"
     ]
    }
   ],
   "source": [
    "import pandas as pd\n",
    "\n",
    "# Suponiendo que tu DataFrame se llama 'df' y tiene una columna llamada 'Repetición|Ajuste'\n",
    "\n",
    "# Crear un diccionario que asigne un número único a cada valor de 'Repetición|Ajuste'\n",
    "repeticion_ajuste_dict = {valor: i for i, valor in enumerate(df['Repetición|Ajuste'].unique(), start=1)}\n",
    "\n",
    "# Reemplazar la columna 'Repetición|Ajuste' por los valores numéricos del diccionario\n",
    "df['Repetición|Ajuste'] = df['Repetición|Ajuste'].map(repeticion_ajuste_dict)\n",
    "\n",
    "# Mostrar el diccionario y las primeras filas del DataFrame\n",
    "print(\"Diccionario de Repetición|Ajuste:\", repeticion_ajuste_dict)\n",
    "print(df.head())\n"
   ]
  },
  {
   "cell_type": "code",
   "execution_count": 37,
   "metadata": {},
   "outputs": [
    {
     "name": "stdout",
     "output_type": "stream",
     "text": [
      "Diccionario de Etapas: {'DISEÑO DE SONRISA': 1, 'ACABADO': 2, 'MODELOS': 3, 'MAQUILLAJE': 4, 'GLASEADO': 5, 'TERMINACION': 6, 'CORONAS': 7, 'DISILICATO': 8, 'INCRUSTACIONES': 9, 'AJUSTE': 10, 'AJUSTE EN ESTADO VERDE': 11, 'ZIRCONIA': 12, 'LLAVES': 13, 'VACIADO': 14, 'MONTAJE': 15, 'PMMA': 16, 'CARILLAS': 17, 'BIZCOCHADO': 18, 'CEMENTACIÓN': 19, 'ENCIAS': 20, 'NUCLEOS': 21, 'PERNO DE FIBRA': 22, 'RESINA HIBRIDA': 23, 'GUIAS': 24, 'RODETE': 25, 'MAQUETAS': 26, 'EMERGENTES': 27, 'ENCIA': 28, 'RESINA': 29, 'LEUCITA': 30}\n",
      "     Nº  Repetición|Ajuste  Cliente  Ctd  Servicio  Sector  Etapa  Empleado  \\\n",
      "0  0099                  1        1    6         1       1      1         1   \n",
      "1  0099                  2        1    6         1       2      2         1   \n",
      "2  0099                  1        1    6         1       2      3         2   \n",
      "3  0163                  1        2    2         2       3      4         3   \n",
      "4  0163                  1        2    2         2       3      5         3   \n",
      "\n",
      "                Início           Finalizado  ... Mes_de_entrada  \\\n",
      "0  2024-03-04 12:43:00  2024-03-06 17:15:00  ...        October   \n",
      "1  2024-03-04 12:43:00  2024-03-04 16:01:00  ...        October   \n",
      "2  2024-03-04 16:55:00  2024-03-05 11:50:00  ...        October   \n",
      "3  2023-11-02 12:40:00  2023-11-03 14:02:00  ...        October   \n",
      "4  2023-11-02 12:41:00  2023-11-03 11:25:00  ...        October   \n",
      "\n",
      "  Día_de_la_semana_fecha_prevista Día_del_mes_fecha_prevista  \\\n",
      "0                         Tuesday                          5   \n",
      "1                         Tuesday                          5   \n",
      "2                         Tuesday                          5   \n",
      "3                        Thursday                          2   \n",
      "4                        Thursday                          2   \n",
      "\n",
      "   Mes_de_fecha_prevista  duracion_trabajo tiempo_promedio  cantidad_etapas  \\\n",
      "0                  March               133       13.103261                3   \n",
      "1                  March               133       13.103261                3   \n",
      "2                  March               133       12.155431                3   \n",
      "3               November                 9        8.235294                2   \n",
      "4               November                 9        8.235294                2   \n",
      "\n",
      "   desvio_fecha  carga_trabajo_sector carga_trabajo_total  \n",
      "0             1                    28                  38  \n",
      "1             1                    16                  38  \n",
      "2             1                    16                  38  \n",
      "3             1                    18                  36  \n",
      "4             1                    18                  36  \n",
      "\n",
      "[5 rows x 41 columns]\n"
     ]
    }
   ],
   "source": [
    "import pandas as pd\n",
    "\n",
    "# Suponiendo que tu DataFrame se llama 'df' y tiene una columna llamada 'Etapa'\n",
    "\n",
    "# Crear un diccionario que asigne un número único a cada valor de 'Etapa'\n",
    "etapa_dict = {etapa: i for i, etapa in enumerate(df['Etapa'].unique(), start=1)}\n",
    "\n",
    "# Reemplazar la columna 'Etapa' por los valores numéricos del diccionario\n",
    "df['Etapa'] = df['Etapa'].map(etapa_dict)\n",
    "\n",
    "# Mostrar el diccionario y las primeras filas del DataFrame\n",
    "print(\"Diccionario de Etapas:\", etapa_dict)\n",
    "print(df.head())\n"
   ]
  },
  {
   "cell_type": "code",
   "execution_count": 38,
   "metadata": {},
   "outputs": [
    {
     "name": "stdout",
     "output_type": "stream",
     "text": [
      "     Nº  Repetición|Ajuste  Cliente  Ctd  Servicio  Sector  Etapa  Empleado  \\\n",
      "0  0099                  1        1    6         1       1      1         1   \n",
      "1  0099                  2        1    6         1       2      2         1   \n",
      "2  0099                  1        1    6         1       2      3         2   \n",
      "3  0163                  1        2    2         2       3      4         3   \n",
      "4  0163                  1        2    2         2       3      5         3   \n",
      "\n",
      "                Início           Finalizado  ... Mes_de_entrada  \\\n",
      "0  2024-03-04 12:43:00  2024-03-06 17:15:00  ...        October   \n",
      "1  2024-03-04 12:43:00  2024-03-04 16:01:00  ...        October   \n",
      "2  2024-03-04 16:55:00  2024-03-05 11:50:00  ...        October   \n",
      "3  2023-11-02 12:40:00  2023-11-03 14:02:00  ...        October   \n",
      "4  2023-11-02 12:41:00  2023-11-03 11:25:00  ...        October   \n",
      "\n",
      "  Día_de_la_semana_fecha_prevista Día_del_mes_fecha_prevista  \\\n",
      "0                         Tuesday                          5   \n",
      "1                         Tuesday                          5   \n",
      "2                         Tuesday                          5   \n",
      "3                        Thursday                          2   \n",
      "4                        Thursday                          2   \n",
      "\n",
      "   Mes_de_fecha_prevista  duracion_trabajo tiempo_promedio  cantidad_etapas  \\\n",
      "0                  March               133       13.103261                3   \n",
      "1                  March               133       13.103261                3   \n",
      "2                  March               133       12.155431                3   \n",
      "3               November                 9        8.235294                2   \n",
      "4               November                 9        8.235294                2   \n",
      "\n",
      "   desvio_fecha  carga_trabajo_sector carga_trabajo_total  \n",
      "0             1                    28                  38  \n",
      "1             1                    16                  38  \n",
      "2             1                    16                  38  \n",
      "3             1                    18                  36  \n",
      "4             1                    18                  36  \n",
      "\n",
      "[5 rows x 41 columns]\n"
     ]
    }
   ],
   "source": [
    "import pandas as pd\n",
    "\n",
    "# Suponiendo que tu DataFrame se llama 'df' y tiene una columna llamada 'Atrasado'\n",
    "\n",
    "# Reemplazar 'SI' por 1 y 'NO' por 0\n",
    "df['Atrasado'] = df['Atrasado'].replace({'SI': 1, 'NO': 0})\n",
    "\n",
    "# Mostrar las primeras filas del DataFrame para verificar el cambio\n",
    "print(df.head())\n"
   ]
  },
  {
   "cell_type": "code",
   "execution_count": 39,
   "metadata": {},
   "outputs": [
    {
     "name": "stdout",
     "output_type": "stream",
     "text": [
      "   Día Semana Inicio  Día Semana Finalización  Día_de_la_semana_entrada  \\\n",
      "0                  1                        3                         3   \n",
      "1                  1                        1                         3   \n",
      "2                  1                        2                         3   \n",
      "3                  4                        5                         2   \n",
      "4                  4                        5                         2   \n",
      "\n",
      "   Día_de_la_semana_fecha_prevista  \n",
      "0                                2  \n",
      "1                                2  \n",
      "2                                2  \n",
      "3                                4  \n",
      "4                                4  \n"
     ]
    }
   ],
   "source": [
    "import pandas as pd\n",
    "\n",
    "# Suponiendo que tu DataFrame se llama 'df'\n",
    "\n",
    "# Crear un diccionario que mapea los días de la semana en inglés a números (1 = Monday, 7 = Sunday)\n",
    "dias_semana_dict = {'Monday': 1, 'Tuesday': 2, 'Wednesday': 3, 'Thursday': 4, 'Friday': 5, 'Saturday': 6, 'Sunday': 7}\n",
    "\n",
    "# Lista de las columnas a transformar\n",
    "columnas_dias = ['Día Semana Inicio', 'Día Semana Finalización', 'Día_de_la_semana_entrada', 'Día_de_la_semana_fecha_prevista']\n",
    "\n",
    "# Reemplazar los días de la semana por números en las columnas seleccionadas\n",
    "df[columnas_dias] = df[columnas_dias].replace(dias_semana_dict)\n",
    "\n",
    "# Mostrar un head de las columnas reemplazadas\n",
    "print(df[columnas_dias].head())\n"
   ]
  },
  {
   "cell_type": "code",
   "execution_count": 40,
   "metadata": {},
   "outputs": [
    {
     "name": "stdout",
     "output_type": "stream",
     "text": [
      "   Mes_de_entrada  Mes_de_fecha_prevista\n",
      "0              10                      3\n",
      "1              10                      3\n",
      "2              10                      3\n",
      "3              10                     11\n",
      "4              10                     11\n"
     ]
    }
   ],
   "source": [
    "import pandas as pd\n",
    "\n",
    "# Suponiendo que tu DataFrame se llama 'df'\n",
    "\n",
    "# Crear un diccionario que mapea los meses en inglés a números (1 = January, 12 = December)\n",
    "meses_dict = {\n",
    "    'January': 1, 'February': 2, 'March': 3, 'April': 4, 'May': 5, 'June': 6,\n",
    "    'July': 7, 'August': 8, 'September': 9, 'October': 10, 'November': 11, 'December': 12\n",
    "}\n",
    "\n",
    "# Lista de las columnas a transformar\n",
    "columnas_meses = ['Mes_de_entrada', 'Mes_de_fecha_prevista']\n",
    "\n",
    "# Reemplazar los meses por números en las columnas seleccionadas\n",
    "df[columnas_meses] = df[columnas_meses].replace(meses_dict)\n",
    "\n",
    "# Mostrar un head de las columnas reemplazadas\n",
    "print(df[columnas_meses].head())\n"
   ]
  },
  {
   "cell_type": "markdown",
   "metadata": {},
   "source": [
    "#### Agrego más variables que se me ocurren"
   ]
  },
  {
   "cell_type": "code",
   "execution_count": 41,
   "metadata": {},
   "outputs": [
    {
     "name": "stdout",
     "output_type": "stream",
     "text": [
      "   Sector  Empleado  trabajos_realizados_x_sector\n",
      "0       1         1                     20.499244\n",
      "1       2         1                      1.250651\n",
      "2       2         2                     58.832725\n",
      "3       3         3                     47.626187\n",
      "4       3         3                     47.626187\n"
     ]
    }
   ],
   "source": [
    "import pandas as pd\n",
    "\n",
    "# Suponiendo que tu DataFrame se llama 'df' y contiene las columnas 'Empleado' y 'Sector'\n",
    "\n",
    "# Calcular el total de trabajos realizados por cada empleado en su sector\n",
    "total_trabajos_x_sector = df.groupby(['Sector', 'Empleado']).size().reset_index(name='total_trabajos')\n",
    "\n",
    "# Calcular el total de trabajos en cada sector\n",
    "total_trabajos_sector = df.groupby('Sector').size().reset_index(name='total_trabajos_sector')\n",
    "\n",
    "# Unir ambas tablas al DataFrame original\n",
    "df = df.merge(total_trabajos_x_sector, on=['Sector', 'Empleado'], how='left')\n",
    "df = df.merge(total_trabajos_sector, on='Sector', how='left')\n",
    "\n",
    "# Crear la nueva columna que calcula el porcentaje de trabajos realizados por el empleado en ese sector\n",
    "df['trabajos_realizados_x_sector'] = (df['total_trabajos'] / df['total_trabajos_sector']) * 100\n",
    "\n",
    "# Mostrar las primeras filas del DataFrame con la nueva columna\n",
    "print(df[['Sector', 'Empleado', 'trabajos_realizados_x_sector']].head())\n"
   ]
  },
  {
   "cell_type": "code",
   "execution_count": 42,
   "metadata": {},
   "outputs": [
    {
     "name": "stdout",
     "output_type": "stream",
     "text": [
      "   Sector  Empleado  proporción_outliers_empleados_sector\n",
      "0       1         1                              0.031365\n",
      "1       2         1                              0.166667\n",
      "2       2         2                              0.061116\n",
      "3       3         3                              0.069255\n",
      "4       3         3                              0.069255\n"
     ]
    }
   ],
   "source": [
    "import pandas as pd\n",
    "\n",
    "# Definir los sectores y empleados como en los boxplots\n",
    "sectores = df['Sector'].unique()\n",
    "empleados = df['Empleado'].unique()\n",
    "\n",
    "# Crear una tabla para almacenar los resultados\n",
    "resultados = []\n",
    "\n",
    "# Función para calcular outliers usando el rango intercuartílico (IQR)\n",
    "def calcular_outliers(data):\n",
    "    Q1 = data.quantile(0.25)\n",
    "    Q3 = data.quantile(0.75)\n",
    "    IQR = Q3 - Q1\n",
    "    lower_bound = Q1 - 1.5 * IQR\n",
    "    upper_bound = Q3 + 1.5 * IQR\n",
    "    outliers = data[(data < lower_bound) | (data > upper_bound)]\n",
    "    return len(outliers), len(data)  # Retorna la cantidad de outliers y el total de registros\n",
    "\n",
    "# Iterar sobre cada sector y cada empleado\n",
    "for sector in sectores:\n",
    "    for empleado in empleados:\n",
    "        # Filtrar los datos para el sector y empleado específico\n",
    "        df_sector_empleado = df[(df['Sector'] == sector) & (df['Empleado'] == empleado)]\n",
    "        \n",
    "        # Si no hay registros, continuar\n",
    "        if df_sector_empleado.empty:\n",
    "            continue\n",
    "        \n",
    "        # Calcular el número de outliers y el total de registros para \"Días Pedido Neto\" en este caso\n",
    "        num_outliers, total_registros = calcular_outliers(df_sector_empleado['Días Pedido Neto'])\n",
    "        \n",
    "        # Calcular la proporción de outliers\n",
    "        proporcion_outliers = num_outliers / total_registros if total_registros > 0 else 0\n",
    "        \n",
    "        # Guardar los resultados\n",
    "        resultados.append({\n",
    "            'Sector': sector,\n",
    "            'Empleado': empleado,\n",
    "            'Proporción Outliers': proporcion_outliers\n",
    "        })\n",
    "\n",
    "# Convertir los resultados a un DataFrame\n",
    "df_resultados = pd.DataFrame(resultados)\n",
    "\n",
    "# Unir la proporción de outliers al DataFrame original\n",
    "df = df.merge(df_resultados, on=['Sector', 'Empleado'], how='left')\n",
    "\n",
    "# Renombrar la columna para que tenga el nombre especificado\n",
    "df.rename(columns={'Proporción Outliers': 'proporción_outliers_empleados_sector'}, inplace=True)\n",
    "\n",
    "# Mostrar las primeras filas del DataFrame para verificar la nueva columna\n",
    "print(df[['Sector', 'Empleado', 'proporción_outliers_empleados_sector']].head())\n"
   ]
  },
  {
   "cell_type": "code",
   "execution_count": 43,
   "metadata": {},
   "outputs": [
    {
     "name": "stdout",
     "output_type": "stream",
     "text": [
      "     Nº  cantidad_sectores\n",
      "0  0099                  2\n",
      "1  0099                  2\n",
      "2  0099                  2\n",
      "3  0163                  1\n",
      "4  0163                  1\n"
     ]
    }
   ],
   "source": [
    "import pandas as pd\n",
    "\n",
    "# Suponiendo que tu DataFrame se llama 'df' y tiene las columnas 'id_pedido' y 'Sector'\n",
    "\n",
    "# Calcular la cantidad de sectores distintos por los que ha pasado cada pedido\n",
    "df_cantidad_sectores = df.groupby('Nº')['Sector'].nunique().reset_index()\n",
    "\n",
    "# Renombrar la columna para que indique que es la cantidad de sectores\n",
    "df_cantidad_sectores.rename(columns={'Sector': 'cantidad_sectores'}, inplace=True)\n",
    "\n",
    "# Unir la cantidad de sectores calculada al DataFrame original\n",
    "df = df.merge(df_cantidad_sectores, on='Nº', how='left')\n",
    "\n",
    "# Mostrar las primeras filas del DataFrame con la nueva columna\n",
    "print(df[['Nº', 'cantidad_sectores']].head())\n"
   ]
  },
  {
   "cell_type": "code",
   "execution_count": 44,
   "metadata": {},
   "outputs": [
    {
     "name": "stdout",
     "output_type": "stream",
     "text": [
      "   Repetición|Ajuste  Días Pedido Neto  media_tiempo_RA\n",
      "0                  1          1.365072         2.469047\n",
      "1                  2          1.365072         2.980631\n",
      "2                  1          1.365072         2.469047\n",
      "3                  1          0.838285         2.469047\n",
      "4                  1          0.838285         2.469047\n"
     ]
    }
   ],
   "source": [
    "import pandas as pd\n",
    "\n",
    "# Suponiendo que tu DataFrame se llama 'df' y tiene las columnas 'Repetición|Ajuste' y 'Días Pedido Neto'\n",
    "\n",
    "# Calcular la media de 'Días Pedido Neto' para cada categoría de 'Repetición|Ajuste'\n",
    "media_tiempo_por_RA = df.groupby('Repetición|Ajuste')['Días Pedido Neto'].mean().reset_index()\n",
    "\n",
    "# Renombrar la columna para que indique que es la media de tiempo\n",
    "media_tiempo_por_RA.rename(columns={'Días Pedido Neto': 'media_tiempo_RA'}, inplace=True)\n",
    "\n",
    "# Unir la media de tiempo calculada al DataFrame original según la categoría de 'Repetición|Ajuste'\n",
    "df = df.merge(media_tiempo_por_RA, on='Repetición|Ajuste', how='left')\n",
    "\n",
    "# Mostrar las primeras filas del DataFrame con la nueva columna\n",
    "print(df[['Repetición|Ajuste', 'Días Pedido Neto', 'media_tiempo_RA']].head())\n"
   ]
  },
  {
   "cell_type": "code",
   "execution_count": 45,
   "metadata": {},
   "outputs": [
    {
     "name": "stdout",
     "output_type": "stream",
     "text": [
      "   Empleado  Sector  Horas Tarea Neto  horas_promedio_empleado_sector\n",
      "0         1       1         24.533333                       14.848186\n",
      "1         1       2          3.300000                        3.636806\n",
      "2         2       2          4.916667                        4.665530\n",
      "3         3       3         11.366667                       10.732284\n",
      "4         3       3          8.733333                       10.732284\n"
     ]
    }
   ],
   "source": [
    "import pandas as pd\n",
    "\n",
    "# Suponiendo que los valores en 'Horas Tarea Neto' están en formato 'HH:MM'\n",
    "# Función para convertir 'HH:MM' a horas decimales\n",
    "def convertir_a_horas(tiempo_str):\n",
    "    try:\n",
    "        horas, minutos = map(int, tiempo_str.split(':'))\n",
    "        return horas + minutos / 60\n",
    "    except:\n",
    "        return None  # Devuelve None si no es posible hacer la conversión\n",
    "\n",
    "# Aplicar la conversión a la columna 'Horas Tarea Neto'\n",
    "df['Horas Tarea Neto'] = df['Horas Tarea Neto'].apply(convertir_a_horas)\n",
    "\n",
    "# Calcular la media de 'Horas Tarea Neto' para cada combinación de 'Empleado' y 'Sector'\n",
    "horas_promedio_por_empleado_sector = df.groupby(['Empleado', 'Sector'])['Horas Tarea Neto'].mean().reset_index()\n",
    "\n",
    "# Renombrar la columna para que indique que es la media de horas\n",
    "horas_promedio_por_empleado_sector.rename(columns={'Horas Tarea Neto': 'horas_promedio_empleado_sector'}, inplace=True)\n",
    "\n",
    "# Unir la media de horas calculada al DataFrame original según la combinación de 'Empleado' y 'Sector'\n",
    "df = df.merge(horas_promedio_por_empleado_sector, on=['Empleado', 'Sector'], how='left')\n",
    "\n",
    "# Mostrar las primeras filas del DataFrame con la nueva columna\n",
    "print(df[['Empleado', 'Sector', 'Horas Tarea Neto', 'horas_promedio_empleado_sector']].head())\n"
   ]
  },
  {
   "cell_type": "code",
   "execution_count": 46,
   "metadata": {},
   "outputs": [
    {
     "name": "stdout",
     "output_type": "stream",
     "text": [
      "   cantidad_sectores  Días Pedido Neto  tiempo_total_cantidad_sectores\n",
      "0                  2          1.365072                        1.381598\n",
      "1                  2          1.365072                        1.381598\n",
      "2                  2          1.365072                        1.381598\n",
      "3                  1          0.838285                        0.883733\n",
      "4                  1          0.838285                        0.883733\n"
     ]
    }
   ],
   "source": [
    "import pandas as pd\n",
    "\n",
    "# Calcular el Días Pedido Neto promedio para cada cantidad de sectores\n",
    "promedio_por_cantidad_sectores = df.groupby('cantidad_sectores')['Días Pedido Neto'].mean().reset_index()\n",
    "\n",
    "# Renombrar la columna para que indique que es el promedio de tiempo total por cantidad de sectores\n",
    "promedio_por_cantidad_sectores.rename(columns={'Días Pedido Neto': 'tiempo_total_cantidad_sectores'}, inplace=True)\n",
    "\n",
    "# Unir el promedio calculado al DataFrame original\n",
    "df = df.merge(promedio_por_cantidad_sectores, on='cantidad_sectores', how='left')\n",
    "\n",
    "# Mostrar las primeras filas del DataFrame con la nueva columna\n",
    "print(df[['cantidad_sectores', 'Días Pedido Neto', 'tiempo_total_cantidad_sectores']].head())\n"
   ]
  },
  {
   "cell_type": "code",
   "execution_count": 47,
   "metadata": {},
   "outputs": [
    {
     "name": "stdout",
     "output_type": "stream",
     "text": [
      "   Servicio  cantidad_sectores  cant_sectores_servicio\n",
      "0         1                  2                2.949699\n",
      "1         1                  2                2.949699\n",
      "2         1                  2                2.949699\n",
      "3         2                  1                3.967532\n",
      "4         2                  1                3.967532\n"
     ]
    }
   ],
   "source": [
    "# Calcular el promedio de cantidad de sectores para cada tipo de servicio\n",
    "promedio_cant_sectores_por_servicio = df.groupby('Servicio')['cantidad_sectores'].mean().reset_index()\n",
    "\n",
    "# Renombrar la columna para que indique que es el promedio de cantidad de sectores por servicio\n",
    "promedio_cant_sectores_por_servicio.rename(columns={'cantidad_sectores': 'cant_sectores_servicio'}, inplace=True)\n",
    "\n",
    "# Unir el promedio calculado al DataFrame original\n",
    "df = df.merge(promedio_cant_sectores_por_servicio, on='Servicio', how='left')\n",
    "\n",
    "# Mostrar las primeras filas del DataFrame con la nueva columna\n",
    "print(df[['Servicio', 'cantidad_sectores', 'cant_sectores_servicio']].head())\n"
   ]
  },
  {
   "cell_type": "code",
   "execution_count": 48,
   "metadata": {},
   "outputs": [
    {
     "name": "stdout",
     "output_type": "stream",
     "text": [
      "   Ctd  porcentaje_cant_dientes\n",
      "0    6                 4.747282\n",
      "1    6                 4.747282\n",
      "2    6                 4.747282\n",
      "3    2                18.897834\n",
      "4    2                18.897834\n"
     ]
    }
   ],
   "source": [
    "import pandas as pd\n",
    "\n",
    "# Calcular la cantidad total de registros\n",
    "total_registros = len(df)\n",
    "\n",
    "# Calcular la frecuencia de cada valor de \"Ctd\" (cantidad de dientes)\n",
    "frecuencia_dientes = df['Ctd'].value_counts().reset_index()\n",
    "\n",
    "# Renombrar las columnas para que sean más descriptivas\n",
    "frecuencia_dientes.columns = ['Ctd', 'count']\n",
    "\n",
    "# Calcular el porcentaje para cada cantidad de dientes\n",
    "frecuencia_dientes['porcentaje_cant_dientes'] = (frecuencia_dientes['count'] / total_registros) * 100\n",
    "\n",
    "# Unir el porcentaje calculado al DataFrame original\n",
    "df = df.merge(frecuencia_dientes[['Ctd', 'porcentaje_cant_dientes']], on='Ctd', how='left')\n",
    "\n",
    "# Mostrar las primeras filas del DataFrame con la nueva columna\n",
    "print(df[['Ctd', 'porcentaje_cant_dientes']].head())\n"
   ]
  },
  {
   "cell_type": "code",
   "execution_count": 49,
   "metadata": {},
   "outputs": [
    {
     "name": "stdout",
     "output_type": "stream",
     "text": [
      "   Servicio  Días Pedido Neto  dias_promedio_servicio_neto\n",
      "0         1          1.365072                     2.038694\n",
      "1         1          1.365072                     2.038694\n",
      "2         1          1.365072                     2.038694\n",
      "3         2          0.838285                     2.708657\n",
      "4         2          0.838285                     2.708657\n"
     ]
    }
   ],
   "source": [
    "import pandas as pd\n",
    "\n",
    "# Calcular el promedio de Días Pedido Neto para cada servicio\n",
    "promedio_dias_por_servicio = df.groupby('Servicio')['Días Pedido Neto'].mean().reset_index()\n",
    "\n",
    "# Renombrar la columna para que indique que es el promedio de días pedido neto por servicio\n",
    "promedio_dias_por_servicio.rename(columns={'Días Pedido Neto': 'dias_promedio_servicio_neto'}, inplace=True)\n",
    "\n",
    "# Unir el promedio calculado al DataFrame original\n",
    "df = df.merge(promedio_dias_por_servicio, on='Servicio', how='left')\n",
    "\n",
    "# Mostrar las primeras filas del DataFrame con la nueva columna\n",
    "print(df[['Servicio', 'Días Pedido Neto', 'dias_promedio_servicio_neto']].head())\n"
   ]
  },
  {
   "cell_type": "markdown",
   "metadata": {},
   "source": [
    "#### Hago frecuency encoding con Repetición|Ajuste, cliente, empleados, servicio, etapa y sector"
   ]
  },
  {
   "cell_type": "code",
   "execution_count": 50,
   "metadata": {},
   "outputs": [
    {
     "name": "stdout",
     "output_type": "stream",
     "text": [
      "   cliente_freq  empleado_freq   RA_freq  servicio_freq  etapa_freq  \\\n",
      "0      0.097601       0.051872  0.853100       0.193045    0.069881   \n",
      "1      0.097601       0.051872  0.095029       0.193045    0.052452   \n",
      "2      0.097601       0.153955  0.853100       0.193045    0.179019   \n",
      "3      0.020749       0.079094  0.853100       0.076687    0.115611   \n",
      "4      0.020749       0.079094  0.853100       0.076687    0.005727   \n",
      "\n",
      "   sector_freq  \n",
      "0     0.219437  \n",
      "1     0.159266  \n",
      "2     0.159266  \n",
      "3     0.166072  \n",
      "4     0.166072  \n"
     ]
    }
   ],
   "source": [
    "# Calcular el total de registros\n",
    "total_registros = len(df)\n",
    "\n",
    "# Crear las columnas con frequency encoding para cada variable categórica\n",
    "df['cliente_freq'] = df['Cliente'].map(df['Cliente'].value_counts()) / total_registros\n",
    "df['empleado_freq'] = df['Empleado'].map(df['Empleado'].value_counts()) / total_registros\n",
    "df['RA_freq'] = df['Repetición|Ajuste'].map(df['Repetición|Ajuste'].value_counts()) / total_registros\n",
    "df['servicio_freq'] = df['Servicio'].map(df['Servicio'].value_counts()) / total_registros\n",
    "df['etapa_freq'] = df['Etapa'].map(df['Etapa'].value_counts()) / total_registros\n",
    "df['sector_freq'] = df['Sector'].map(df['Sector'].value_counts()) / total_registros\n",
    "\n",
    "# Mostrar las primeras filas del DataFrame con las nuevas columnas\n",
    "print(df[['cliente_freq', 'empleado_freq', 'RA_freq', 'servicio_freq', 'etapa_freq', 'sector_freq']].head())\n"
   ]
  },
  {
   "cell_type": "markdown",
   "metadata": {},
   "source": [
    "#### Eliminación de ID y fechas"
   ]
  },
  {
   "cell_type": "code",
   "execution_count": 51,
   "metadata": {},
   "outputs": [
    {
     "name": "stdout",
     "output_type": "stream",
     "text": [
      "Index(['Nº', 'Repetición|Ajuste', 'Cliente', 'Ctd', 'Servicio', 'Sector',\n",
      "       'Etapa', 'Empleado', 'Início', 'Finalizado', 'Fecha entrada',\n",
      "       'Fecha prevista', 'Horas Tarea Neto', 'Minutos Tarea Neto',\n",
      "       'Días Tarea Neto', 'Horas Pedido Neto', 'Minutos Pedido Neto',\n",
      "       'Días Pedido Neto', 'Dias Pedido Total', 'Última Finalización',\n",
      "       'Atrasado', 'Días de Atraso', 'Día Semana Inicio',\n",
      "       'Día Semana Finalización', 'promedio_horas_sector',\n",
      "       'promedio_horas_sector_servicio', 'Promedio días atraso por sector',\n",
      "       'Promedio días atraso por servicio', 'Tiempo_hasta_fecha_prevista',\n",
      "       'Día_de_la_semana_entrada', 'Día_del_mes_entrada', 'Mes_de_entrada',\n",
      "       'Día_de_la_semana_fecha_prevista', 'Día_del_mes_fecha_prevista',\n",
      "       'Mes_de_fecha_prevista', 'duracion_trabajo', 'tiempo_promedio',\n",
      "       'cantidad_etapas', 'desvio_fecha', 'carga_trabajo_sector',\n",
      "       'carga_trabajo_total', 'total_trabajos', 'total_trabajos_sector',\n",
      "       'trabajos_realizados_x_sector', 'proporción_outliers_empleados_sector',\n",
      "       'cantidad_sectores', 'media_tiempo_RA',\n",
      "       'horas_promedio_empleado_sector', 'tiempo_total_cantidad_sectores',\n",
      "       'cant_sectores_servicio', 'porcentaje_cant_dientes',\n",
      "       'dias_promedio_servicio_neto', 'cliente_freq', 'empleado_freq',\n",
      "       'RA_freq', 'servicio_freq', 'etapa_freq', 'sector_freq'],\n",
      "      dtype='object')\n"
     ]
    }
   ],
   "source": [
    "print(df.columns)"
   ]
  },
  {
   "cell_type": "code",
   "execution_count": 52,
   "metadata": {},
   "outputs": [],
   "source": [
    "# Lista de las columnas a eliminar\n",
    "columnas_a_eliminar = ['Nº', 'Início', 'Finalizado', 'Fecha entrada', 'Fecha prevista', 'Última Finalización']\n",
    "\n",
    "# Eliminar las columnas del DataFrame\n",
    "df.drop(columns=columnas_a_eliminar, inplace=True)"
   ]
  },
  {
   "cell_type": "code",
   "execution_count": 53,
   "metadata": {},
   "outputs": [
    {
     "name": "stdout",
     "output_type": "stream",
     "text": [
      "(12049, 52)\n"
     ]
    }
   ],
   "source": [
    "# Verificar que las columnas fueron eliminadas mostrando el DataFrame\n",
    "print(df.shape)"
   ]
  },
  {
   "cell_type": "code",
   "execution_count": 54,
   "metadata": {},
   "outputs": [
    {
     "name": "stdout",
     "output_type": "stream",
     "text": [
      "Index(['Repetición|Ajuste', 'Cliente', 'Ctd', 'Servicio', 'Sector', 'Etapa',\n",
      "       'Empleado', 'Horas Tarea Neto', 'Minutos Tarea Neto', 'Días Tarea Neto',\n",
      "       'Horas Pedido Neto', 'Minutos Pedido Neto', 'Días Pedido Neto',\n",
      "       'Dias Pedido Total', 'Atrasado', 'Días de Atraso', 'Día Semana Inicio',\n",
      "       'Día Semana Finalización', 'promedio_horas_sector',\n",
      "       'promedio_horas_sector_servicio', 'Promedio días atraso por sector',\n",
      "       'Promedio días atraso por servicio', 'Tiempo_hasta_fecha_prevista',\n",
      "       'Día_de_la_semana_entrada', 'Día_del_mes_entrada', 'Mes_de_entrada',\n",
      "       'Día_de_la_semana_fecha_prevista', 'Día_del_mes_fecha_prevista',\n",
      "       'Mes_de_fecha_prevista', 'duracion_trabajo', 'tiempo_promedio',\n",
      "       'cantidad_etapas', 'desvio_fecha', 'carga_trabajo_sector',\n",
      "       'carga_trabajo_total', 'total_trabajos', 'total_trabajos_sector',\n",
      "       'trabajos_realizados_x_sector', 'proporción_outliers_empleados_sector',\n",
      "       'cantidad_sectores', 'media_tiempo_RA',\n",
      "       'horas_promedio_empleado_sector', 'tiempo_total_cantidad_sectores',\n",
      "       'cant_sectores_servicio', 'porcentaje_cant_dientes',\n",
      "       'dias_promedio_servicio_neto', 'cliente_freq', 'empleado_freq',\n",
      "       'RA_freq', 'servicio_freq', 'etapa_freq', 'sector_freq'],\n",
      "      dtype='object')\n"
     ]
    }
   ],
   "source": [
    "print(df.columns)"
   ]
  },
  {
   "cell_type": "code",
   "execution_count": 57,
   "metadata": {},
   "outputs": [
    {
     "name": "stdout",
     "output_type": "stream",
     "text": [
      "0    32.750000\n",
      "1    32.750000\n",
      "2    32.750000\n",
      "3    20.116667\n",
      "4    20.116667\n",
      "Name: Horas Pedido Neto, dtype: float64\n"
     ]
    }
   ],
   "source": [
    "# Si los valores están en formato 'HH:MM', se convierte a horas decimales\n",
    "def convertir_a_horas(tiempo_str):\n",
    "    try:\n",
    "        horas, minutos = map(int, tiempo_str.split(':'))\n",
    "        return horas + minutos / 60\n",
    "    except:\n",
    "        return None  # Si no es posible convertir, devuelve None\n",
    "\n",
    "# Aplicar la función a la columna 'Horas Pedido Neto'\n",
    "df['Horas Pedido Neto'] = df['Horas Pedido Neto'].apply(convertir_a_horas)\n",
    "\n",
    "# Mostrar las primeras filas para verificar\n",
    "print(df['Horas Pedido Neto'].head())\n"
   ]
  },
  {
   "cell_type": "code",
   "execution_count": 58,
   "metadata": {},
   "outputs": [
    {
     "name": "stdout",
     "output_type": "stream",
     "text": [
      "Columnas con valores NA:\n",
      "Series([], dtype: int64)\n",
      "\n",
      "Columnas que no son numéricas:\n",
      "Index([], dtype='object')\n",
      "\n",
      "No hay valores NA y todas las columnas son numéricas.\n"
     ]
    }
   ],
   "source": [
    "# chequeo NAs y que sea numerico todo\n",
    "\n",
    "import pandas as pd\n",
    "\n",
    "# Verificar si hay valores NA en el DataFrame\n",
    "na_check = df.isnull().sum()\n",
    "\n",
    "# Mostrar columnas que tienen valores NA\n",
    "print(\"Columnas con valores NA:\")\n",
    "print(na_check[na_check > 0])\n",
    "\n",
    "# Verificar si todas las columnas contienen solo datos numéricos\n",
    "non_numeric_cols = df.select_dtypes(exclude=['number']).columns\n",
    "\n",
    "# Mostrar columnas que no son numéricas\n",
    "print(\"\\nColumnas que no son numéricas:\")\n",
    "print(non_numeric_cols)\n",
    "\n",
    "# Verificar si no hay NA y todas las columnas son numéricas\n",
    "if na_check.sum() == 0 and len(non_numeric_cols) == 0:\n",
    "    print(\"\\nNo hay valores NA y todas las columnas son numéricas.\")\n",
    "else:\n",
    "    print(\"\\nExisten columnas con NA o no numéricas.\")\n"
   ]
  }
 ],
 "metadata": {
  "kernelspec": {
   "display_name": "Python 3",
   "language": "python",
   "name": "python3"
  },
  "language_info": {
   "codemirror_mode": {
    "name": "ipython",
    "version": 3
   },
   "file_extension": ".py",
   "mimetype": "text/x-python",
   "name": "python",
   "nbconvert_exporter": "python",
   "pygments_lexer": "ipython3",
   "version": "3.11.9"
  }
 },
 "nbformat": 4,
 "nbformat_minor": 2
}
